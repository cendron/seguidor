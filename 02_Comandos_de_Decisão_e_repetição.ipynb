{
  "nbformat": 4,
  "nbformat_minor": 0,
  "metadata": {
    "colab": {
      "provenance": [],
      "collapsed_sections": [],
      "authorship_tag": "ABX9TyNrF+fG5MPNm2iq9lVvC6Fm",
      "include_colab_link": true
    },
    "kernelspec": {
      "name": "python3",
      "display_name": "Python 3"
    },
    "language_info": {
      "name": "python"
    }
  },
  "cells": [
    {
      "cell_type": "markdown",
      "metadata": {
        "id": "view-in-github",
        "colab_type": "text"
      },
      "source": [
        "<a href=\"https://colab.research.google.com/github/cendron/seguidor/blob/main/02_Comandos_de_Decis%C3%A3o_e_repeti%C3%A7%C3%A3o.ipynb\" target=\"_parent\"><img src=\"https://colab.research.google.com/assets/colab-badge.svg\" alt=\"Open In Colab\"/></a>"
      ]
    },
    {
      "cell_type": "markdown",
      "source": [
        "# Comando de decisão\n",
        "\n",
        "## if/else\n",
        "\n",
        "A sintaxe do comando ```if``` é muito semelhante a C:"
      ],
      "metadata": {
        "id": "jFjCOgO3mCCu"
      }
    },
    {
      "cell_type": "code",
      "execution_count": null,
      "metadata": {
        "colab": {
          "base_uri": "https://localhost:8080/"
        },
        "id": "VRKUqZL9l8G8",
        "outputId": "00c99c12-5a69-43c8-cd29-2d4a453baff6"
      },
      "outputs": [
        {
          "output_type": "stream",
          "name": "stdout",
          "text": [
            "Digite um valor: 54\n",
            "Valor maior que 50\n"
          ]
        }
      ],
      "source": [
        "x = int(input(\"Digite um valor: \"))\n",
        "if x > 50:\n",
        "    print('Valor maior que 50')\n",
        "else:\n",
        "    print('Valor menor ou igual a 50')"
      ]
    },
    {
      "cell_type": "markdown",
      "source": [
        "# Atenção:\n",
        "  \n",
        "> ***Diferente de C que delimita o que será executando dentro do comando através de ```{}```, o Python utiliza indentação, o que obrigado que o programador organize seu código***\n",
        "\n",
        "> ***Uma falha comum que acontece para quem vem de C é esquecer o sinal ```:``` no final dos comandos***\n",
        "\n",
        "\n",
        "\n",
        "\n"
      ],
      "metadata": {
        "id": "orS-OmlKm4n6"
      }
    },
    {
      "cell_type": "markdown",
      "source": [
        "## if/else encadeados\n",
        "\n",
        "Podemos também criar uma sequência de comandos if/else:"
      ],
      "metadata": {
        "id": "PoVttPXvoOAJ"
      }
    },
    {
      "cell_type": "code",
      "source": [
        "x = int(input(\"Digite um valor: \"))\n",
        "if x > 50:\n",
        "    print('Valor maior que 50')\n",
        "elif x > 40:\n",
        "    print('Valor maior que 40')\n",
        "elif x > 30:\n",
        "    print('Valor maior que 30')  \n",
        "else:\n",
        "    print('Valor menor ou igual a 30')"
      ],
      "metadata": {
        "colab": {
          "base_uri": "https://localhost:8080/"
        },
        "id": "7RwEvWDRoZN4",
        "outputId": "1b45453f-b6f4-403e-e395-21ad73afd7cc"
      },
      "execution_count": null,
      "outputs": [
        {
          "output_type": "stream",
          "name": "stdout",
          "text": [
            "Digite um valor: 10\n",
            "Valor menor ou igual a 30\n"
          ]
        }
      ]
    },
    {
      "cell_type": "markdown",
      "source": [
        "# Comando de repetição\n",
        "\n",
        "Os comandos de repetição em Python são praticamente os mesmos de C:\n",
        "\n",
        "*   ```while```\n",
        "*   ```for```\n",
        "\n",
        "Com leves mudanças na sintaxe. \n",
        "\n",
        "Por enquanto veremos apenas o comando ```while```"
      ],
      "metadata": {
        "id": "xmWeX8R6qB_o"
      }
    },
    {
      "cell_type": "markdown",
      "source": [
        "##O comando while\n",
        "\n",
        "O laço de repetição ```while```  executa enquanto a condição (aqui: ```a < 10```) permanece verdadeira. Em Python, como em C, qualquer valor inteiro que não seja zero é considerado verdadeiro; zero é considerado falso."
      ],
      "metadata": {
        "id": "0dMb1YPvqcgE"
      }
    },
    {
      "cell_type": "code",
      "source": [
        "a = 0\n",
        "\n",
        "while (a < 10):\n",
        "  print(f\"{a}\")\n",
        "  a+=1"
      ],
      "metadata": {
        "colab": {
          "base_uri": "https://localhost:8080/"
        },
        "id": "B_h8NClWqsMi",
        "outputId": "999c4c03-62a7-4f47-94b2-06e18a98f85c"
      },
      "execution_count": null,
      "outputs": [
        {
          "output_type": "stream",
          "name": "stdout",
          "text": [
            "0\n",
            "1\n",
            "2\n",
            "3\n",
            "4\n",
            "5\n",
            "6\n",
            "7\n",
            "8\n",
            "9\n"
          ]
        }
      ]
    },
    {
      "cell_type": "markdown",
      "source": [
        "##Comando while aplicado ao seguidor de linha. \n",
        "\n",
        "Podemos utilizar o comando ```while``` para ler de forma continua o valor da refraçào do sensor de cor:"
      ],
      "metadata": {
        "id": "YK6Rlae9rEFZ"
      }
    },
    {
      "cell_type": "code",
      "source": [
        "#!/usr/bin/env pybricks-micropython\n",
        "\n",
        "from pybricks.parameters import *\n",
        "from pybricks.hubs import EV3Brick\n",
        "from pybricks.ev3devices import *\n",
        "from pybricks.tools import wait\n",
        "from pybricks.robotics import DriveBase\n",
        "\n",
        "\n",
        "ev3 = EV3Brick()\n",
        "\n",
        "sensorCor = ColorSensor(Port.S1)\n",
        "\n",
        "while (True):\n",
        "    nivel = sensorCor.reflection()\n",
        "    print(f\"Cor refletida: {nivel}\")\n",
        "    wait(500)\n"
      ],
      "metadata": {
        "id": "CHhihCpkrq3K"
      },
      "execution_count": null,
      "outputs": []
    }
  ]
}