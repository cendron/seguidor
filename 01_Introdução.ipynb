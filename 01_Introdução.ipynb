{
  "nbformat": 4,
  "nbformat_minor": 0,
  "metadata": {
    "colab": {
      "provenance": [],
      "collapsed_sections": [],
      "authorship_tag": "ABX9TyMh/C3i5GF0/MzmI3tbA89e",
      "include_colab_link": true
    },
    "kernelspec": {
      "name": "python3",
      "display_name": "Python 3"
    },
    "language_info": {
      "name": "python"
    }
  },
  "cells": [
    {
      "cell_type": "markdown",
      "metadata": {
        "id": "view-in-github",
        "colab_type": "text"
      },
      "source": [
        "<a href=\"https://colab.research.google.com/github/cendron/seguidor/blob/main/01_Introdu%C3%A7%C3%A3o.ipynb\" target=\"_parent\"><img src=\"https://colab.research.google.com/assets/colab-badge.svg\" alt=\"Open In Colab\"/></a>"
      ]
    },
    {
      "cell_type": "markdown",
      "source": [
        "# Introdução ao Pybricks\n",
        "## A biblioteca Pybricks\n",
        "\n",
        "O Pybricks é uma biblioteca que executa sobre o MicroPython. O MicroPython é uma versão do Python especificamente feita para executar em dispositivos microcontrolados. \n",
        "\n",
        "O Pybricks é disponível no endereço: https://pybricks.com. A documentação que utilizaremos está disponível no endereço: https://docs.pybricks.com/en/v2.0/ (verifique estamos utilizando a versão 2.0 do Pybricks)."
      ],
      "metadata": {
        "id": "mru8Rjk2I6dJ"
      }
    },
    {
      "cell_type": "code",
      "execution_count": null,
      "metadata": {
        "id": "piEOTY-HIb5Y"
      },
      "outputs": [],
      "source": [
        "#!/usr/bin/env pybricks-micropython\n",
        "\n",
        "from pybricks.parameters import *\n",
        "from pybricks.hubs import EV3Brick\n",
        "from pybricks.ev3devices import *\n",
        "from pybricks.tools import wait\n",
        "from pybricks.robotics import DriveBase"
      ]
    },
    {
      "cell_type": "markdown",
      "source": [
        "## Criando o objeto de controle do Bloco.\n",
        "\n",
        "A primeira coisa que deve ser feita é instanciar o objeto do bloco de controle. Para isso deve-se fazer:"
      ],
      "metadata": {
        "id": "hjzAQlhwLxUF"
      }
    },
    {
      "cell_type": "code",
      "source": [
        "ev3 = EV3Brick()"
      ],
      "metadata": {
        "id": "UPFchF_5Luh7"
      },
      "execution_count": null,
      "outputs": []
    },
    {
      "cell_type": "markdown",
      "source": [
        "# A linguagem Python\n",
        "\n",
        "## Variáveis. \n",
        "\n",
        "Python é uma linguagem de programação que permite a tipificação dinâmica, isso permite que uma variável não precisa ter seu tipo especificado e pode ser alterado de tipo durante a execução. \n",
        "\n",
        "Por exemplo, o código em C:\n",
        "\n",
        "```c\n",
        "int valor = 5;\n",
        "float num = 3.1;\n",
        "char letra = 'a';\n",
        "```\n",
        "\n",
        "Em Python ficaria:"
      ],
      "metadata": {
        "id": "DG_HyvHaM0ET"
      }
    },
    {
      "cell_type": "code",
      "source": [
        "valor = 5\n",
        "num = 3.1\n",
        "letra = 'a'"
      ],
      "metadata": {
        "id": "U5BBGjkuOXz4"
      },
      "execution_count": null,
      "outputs": []
    },
    {
      "cell_type": "markdown",
      "source": [
        "## Imprimindo os valores\n",
        "\n",
        "As duas formas de se fazer a impressão de valores em Python:\n",
        "\n",
        "### Através de F-Strings\n",
        "Strings literais formatadas (também chamadas f-strings, para abreviar) permite que se inclua o valor de expressões Python dentro de uma string, prefixando-a com f ou F e escrevendo expressões na forma {expression}:"
      ],
      "metadata": {
        "id": "OE0beMe5Pv0u"
      }
    },
    {
      "cell_type": "code",
      "source": [
        "import math\n",
        "print(f'The value of pi is approximately {math.pi:.3f}.')"
      ],
      "metadata": {
        "colab": {
          "base_uri": "https://localhost:8080/"
        },
        "id": "7N7tVtNDWuwa",
        "outputId": "bf9aea6d-b4f9-4539-d9c0-d1cd0152b92c"
      },
      "execution_count": null,
      "outputs": [
        {
          "output_type": "stream",
          "name": "stdout",
          "text": [
            "The value of pi is approximately 3.142.\n"
          ]
        }
      ]
    },
    {
      "cell_type": "markdown",
      "source": [
        "### O método format()\n",
        "\n",
        "Ou o uso através do comando:\n",
        "```python\n",
        "str.format()\n",
        "```"
      ],
      "metadata": {
        "id": "RHHXmGubW4hn"
      }
    },
    {
      "cell_type": "code",
      "source": [
        "valor = 5\n",
        "num = 3.14159265\n",
        "print('Valor: {} \\nNúmero: {}, \\nArrendodado: {:0.3f}'.format(valor, num, num))"
      ],
      "metadata": {
        "colab": {
          "base_uri": "https://localhost:8080/"
        },
        "id": "XDl9scAkTTS7",
        "outputId": "4b8d7def-6f66-4bbb-e101-719df3eae0fc"
      },
      "execution_count": null,
      "outputs": [
        {
          "output_type": "stream",
          "name": "stdout",
          "text": [
            "Valor: 5 \n",
            "Número: 3.14159265, \n",
            "Truncado: 3.142\n"
          ]
        }
      ]
    },
    {
      "cell_type": "markdown",
      "source": [
        "## Lendo um valor de um sensor e imprimindo\n",
        "\n",
        "### Criando um objeto\n",
        "Antes de ler um valor, vamos criar um objeto do componente que queremos ler os valores, verifique um parâmetro do sensor a seguir é a porta em que ele está configurado. "
      ],
      "metadata": {
        "id": "twxaUUjWcKwc"
      }
    },
    {
      "cell_type": "code",
      "source": [
        "sensorCor = ColorSensor(Port.S1)"
      ],
      "metadata": {
        "id": "2c8bD-QNcuVN"
      },
      "execution_count": null,
      "outputs": []
    },
    {
      "cell_type": "markdown",
      "source": [
        "### Lendo um valor\n",
        "\n",
        "Para ler um valor do sensor, precisamos conhecer as funções que o objeto implementa, para isso muitas vezes é necessário consultar a documentação do Pybricks.\n",
        "\n",
        "No link: https://docs.pybricks.com/en/v2.0/ev3devices.html#color-sensor temos a documentação do sensor de cor, mas especificamente vamos utilizar a função ```reflection()```:\n",
        "\n",
        "\n",
        "```\n",
        "reflection()\n",
        "  Measures the reflection of a surface using a red light.\n",
        "\n",
        "  Returns:\tReflection, ranging from 0 (no reflection) to 100 (high reflection).\n",
        "  Return type:\tpercentage: %\n",
        "```\n"
      ],
      "metadata": {
        "id": "lzHFhlHac479"
      }
    },
    {
      "cell_type": "code",
      "source": [
        "#!/usr/bin/env pybricks-micropython\n",
        "\n",
        "from pybricks.parameters import *\n",
        "from pybricks.hubs import EV3Brick\n",
        "from pybricks.ev3devices import *\n",
        "from pybricks.tools import wait\n",
        "from pybricks.robotics import DriveBase\n",
        "\n",
        "# Cria o gerenciador do bloco\n",
        "ev3 = EV3Brick()\n",
        "\n",
        "# Objeto do sensor de cor\n",
        "sensorCor = ColorSensor(Port.S1)\n",
        "\n",
        "# Lê o valor da reflexão e imprime\n",
        "nivel = sensorCor.reflection()\n",
        "print(f\"Cor refletida: {nivel}\")"
      ],
      "metadata": {
        "id": "PzncJVD_dMC_"
      },
      "execution_count": null,
      "outputs": []
    },
    {
      "cell_type": "markdown",
      "source": [
        "#Atividade\n",
        "\n",
        "Analise a documentação e obtenha os valores dos sensores:\n",
        "\n",
        "\n",
        "*   UltrasonicSensor\n",
        "*   GyroSensor\n",
        "*   GPSSensor\n",
        "\n"
      ],
      "metadata": {
        "id": "XgOqYQ_-o4Q4"
      }
    }
  ]
}